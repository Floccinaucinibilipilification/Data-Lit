{
  "nbformat": 4,
  "nbformat_minor": 0,
  "metadata": {
    "colab": {
      "name": "Data Lit 1.6 Twitter Sentiment Analysis.ipynb",
      "version": "0.3.2",
      "provenance": [],
      "collapsed_sections": [],
      "toc_visible": true,
      "include_colab_link": true
    },
    "kernelspec": {
      "display_name": "Python 3",
      "language": "python",
      "name": "python3"
    }
  },
  "cells": [
    {
      "cell_type": "markdown",
      "metadata": {
        "id": "view-in-github",
        "colab_type": "text"
      },
      "source": [
        "<a href=\"https://colab.research.google.com/github/Floccinaucinibilipilification/Data-Lit/blob/master/Data_Lit_1_6_Twitter_Sentiment_Analysis.ipynb\" target=\"_parent\"><img src=\"https://colab.research.google.com/assets/colab-badge.svg\" alt=\"Open In Colab\"/></a>"
      ]
    },
    {
      "metadata": {
        "id": "ZZ-xgkpvufyA",
        "colab_type": "text"
      },
      "cell_type": "markdown",
      "source": [
        "### Before we start"
      ]
    },
    {
      "metadata": {
        "colab_type": "code",
        "id": "nMx2UqrJFyw-",
        "outputId": "aac1125a-a0ff-4304-8196-672e3bc41f80",
        "colab": {
          "base_uri": "https://localhost:8080/",
          "height": 612
        }
      },
      "cell_type": "code",
      "source": [
        "!pip install pandas\n",
        "!pip install tweepy\n",
        "!pip install twython\n",
        "!pip install vaderSentiment"
      ],
      "execution_count": 0,
      "outputs": [
        {
          "output_type": "stream",
          "text": [
            "Requirement already satisfied: pandas in /usr/local/lib/python3.6/dist-packages (0.22.0)\n",
            "Requirement already satisfied: python-dateutil>=2 in /usr/local/lib/python3.6/dist-packages (from pandas) (2.5.3)\n",
            "Requirement already satisfied: numpy>=1.9.0 in /usr/local/lib/python3.6/dist-packages (from pandas) (1.14.6)\n",
            "Requirement already satisfied: pytz>=2011k in /usr/local/lib/python3.6/dist-packages (from pandas) (2018.9)\n",
            "Requirement already satisfied: six>=1.5 in /usr/local/lib/python3.6/dist-packages (from python-dateutil>=2->pandas) (1.11.0)\n",
            "Requirement already satisfied: tweepy in /usr/local/lib/python3.6/dist-packages (3.6.0)\n",
            "Requirement already satisfied: requests-oauthlib>=0.7.0 in /usr/local/lib/python3.6/dist-packages (from tweepy) (1.2.0)\n",
            "Requirement already satisfied: requests>=2.11.1 in /usr/local/lib/python3.6/dist-packages (from tweepy) (2.18.4)\n",
            "Requirement already satisfied: six>=1.10.0 in /usr/local/lib/python3.6/dist-packages (from tweepy) (1.11.0)\n",
            "Requirement already satisfied: PySocks>=1.5.7 in /usr/local/lib/python3.6/dist-packages (from tweepy) (1.6.8)\n",
            "Requirement already satisfied: oauthlib>=3.0.0 in /usr/local/lib/python3.6/dist-packages (from requests-oauthlib>=0.7.0->tweepy) (3.0.1)\n",
            "Requirement already satisfied: certifi>=2017.4.17 in /usr/local/lib/python3.6/dist-packages (from requests>=2.11.1->tweepy) (2018.11.29)\n",
            "Requirement already satisfied: urllib3<1.23,>=1.21.1 in /usr/local/lib/python3.6/dist-packages (from requests>=2.11.1->tweepy) (1.22)\n",
            "Requirement already satisfied: chardet<3.1.0,>=3.0.2 in /usr/local/lib/python3.6/dist-packages (from requests>=2.11.1->tweepy) (3.0.4)\n",
            "Requirement already satisfied: idna<2.7,>=2.5 in /usr/local/lib/python3.6/dist-packages (from requests>=2.11.1->tweepy) (2.6)\n",
            "Collecting twython\n",
            "  Downloading https://files.pythonhosted.org/packages/8c/2b/c0883f05b03a8e87787d56395d6c89515fe7e0bf80abd3778b6bb3a6873f/twython-3.7.0.tar.gz\n",
            "Requirement already satisfied: requests>=2.1.0 in /usr/local/lib/python3.6/dist-packages (from twython) (2.18.4)\n",
            "Requirement already satisfied: requests_oauthlib>=0.4.0 in /usr/local/lib/python3.6/dist-packages (from twython) (1.2.0)\n",
            "Requirement already satisfied: idna<2.7,>=2.5 in /usr/local/lib/python3.6/dist-packages (from requests>=2.1.0->twython) (2.6)\n",
            "Requirement already satisfied: certifi>=2017.4.17 in /usr/local/lib/python3.6/dist-packages (from requests>=2.1.0->twython) (2018.11.29)\n",
            "Requirement already satisfied: chardet<3.1.0,>=3.0.2 in /usr/local/lib/python3.6/dist-packages (from requests>=2.1.0->twython) (3.0.4)\n",
            "Requirement already satisfied: urllib3<1.23,>=1.21.1 in /usr/local/lib/python3.6/dist-packages (from requests>=2.1.0->twython) (1.22)\n",
            "Requirement already satisfied: oauthlib>=3.0.0 in /usr/local/lib/python3.6/dist-packages (from requests_oauthlib>=0.4.0->twython) (3.0.1)\n",
            "Building wheels for collected packages: twython\n",
            "  Building wheel for twython (setup.py) ... \u001b[?25ldone\n",
            "\u001b[?25h  Stored in directory: /root/.cache/pip/wheels/c2/b0/a3/5c4b4b87b8c9e4d99f1494a0b471f0134a74e5fb33d426d009\n",
            "Successfully built twython\n",
            "Installing collected packages: twython\n",
            "Successfully installed twython-3.7.0\n",
            "Collecting vaderSentiment\n",
            "\u001b[?25l  Downloading https://files.pythonhosted.org/packages/86/9e/c53e1fc61aac5ee490a6ac5e21b1ac04e55a7c2aba647bb8411c9aadf24e/vaderSentiment-3.2.1-py2.py3-none-any.whl (125kB)\n",
            "\u001b[K    100% |████████████████████████████████| 133kB 6.3MB/s \n",
            "\u001b[?25hInstalling collected packages: vaderSentiment\n",
            "Successfully installed vaderSentiment-3.2.1\n"
          ],
          "name": "stdout"
        }
      ]
    },
    {
      "metadata": {
        "colab_type": "code",
        "id": "VldzdttbGRT6",
        "outputId": "456a2289-4712-42bb-ed63-f4673b3b3b1c",
        "colab": {
          "base_uri": "https://localhost:8080/",
          "height": 34
        }
      },
      "cell_type": "code",
      "source": [
        "import nltk\n",
        "import time\n",
        "import tweepy\n",
        "import warnings\n",
        "import pandas as pd\n",
        "import seaborn as sns\n",
        "import matplotlib.pyplot as plt\n",
        "from nltk.sentiment.vader import SentimentIntensityAnalyzer\n",
        "\n",
        "%matplotlib inline\n",
        "sns.set_style(\"whitegrid\")\n",
        "nltk.download('vader_lexicon')\n",
        "warnings.filterwarnings(\"ignore\")"
      ],
      "execution_count": 0,
      "outputs": [
        {
          "output_type": "stream",
          "text": [
            "[nltk_data] Downloading package vader_lexicon to /root/nltk_data...\n"
          ],
          "name": "stdout"
        }
      ]
    },
    {
      "metadata": {
        "id": "qJqtkVGbF01B",
        "colab_type": "text"
      },
      "cell_type": "markdown",
      "source": [
        "### Twitter API Setup"
      ]
    },
    {
      "metadata": {
        "id": "265MC74nF0o0",
        "colab_type": "code",
        "colab": {}
      },
      "cell_type": "code",
      "source": [
        "consumer_key = 'your consumer key'\n",
        "consumer_secret = 'your consumer secret'\n",
        "access_token = 'your access_token'\n",
        "access_token_secret = 'your access token secret'\n",
        "\n",
        "auth = tweepy.OAuthHandler(consumer_key, consumer_secret)\n",
        "auth.set_access_token(access_token, access_token_secret)\n",
        "api = tweepy.API(auth)"
      ],
      "execution_count": 0,
      "outputs": []
    },
    {
      "metadata": {
        "id": "eKGvQxHtLAoT",
        "colab_type": "text"
      },
      "cell_type": "markdown",
      "source": [
        "### Fetch tweets and Visualize the sentiment"
      ]
    },
    {
      "metadata": {
        "id": "zoiYGN0eLAAG",
        "colab_type": "code",
        "colab": {}
      },
      "cell_type": "code",
      "source": [
        "def twitter_sentiment(topic, count=100, disp_head=False):\n",
        "  consumer_key = 'LDPoU1ZpTGun41XFMnJ0wzY4o'\n",
        "  consumer_secret = 'qeGUeocix7T7KgiKTCHTqXBV6aSEiqOdy9cPufQDcHD3W9JX7X'\n",
        "  access_token = '3279230352-Ksr1WOTv7uSbiQiJy0Wa9JyecMbkyuwhfvj88sz'\n",
        "  access_token_secret = 'wSJDlVvAQTN3Kx7Nr7d8RitBED3xt9qKlL9NuCcAnb6os'\n",
        "\n",
        "  auth = tweepy.OAuthHandler(consumer_key, consumer_secret)\n",
        "  auth.set_access_token(access_token, access_token_secret)\n",
        "  api = tweepy.API(auth)\n",
        "\n",
        "  tweets = api.search(topic,count=count) # count: Default 15, maximum 100\n",
        "\n",
        "  data = pd.DataFrame(data=[tweet.text for tweet in tweets], columns=['Tweets'])\n",
        "\n",
        "  #display(data.head(10))\n",
        "  \n",
        "  #print(tweets[0].created_at)\n",
        "\n",
        "  sid = SentimentIntensityAnalyzer()\n",
        "\n",
        "  listy = []\n",
        "\n",
        "  for index, row in data.iterrows():\n",
        "      ss = sid.polarity_scores(row[\"Tweets\"])\n",
        "      listy.append(ss)\n",
        "\n",
        "  se = pd.Series(listy)\n",
        "\n",
        "  data['polarity'] = se.values\n",
        "\n",
        "  data['negative'] = pd.Series([x['neg'] for x in data.polarity])\n",
        "  data['neutral'] = pd.Series([x['neu'] for x in data.polarity])\n",
        "  data['positive'] = pd.Series([x['pos'] for x in data.polarity])\n",
        "  data['compound'] = pd.Series([x['compound'] for x in data.polarity])\n",
        "\n",
        "  data_partial = data[['negative','neutral','positive','compound']]\n",
        "  data['sentiment'] = data_partial.idxmax(axis=1)\n",
        "  \n",
        "  if disp_head:\n",
        "    display(data.head(6))\n",
        "  \n",
        "  plt.figure(figsize=(8,6))\n",
        "  sns.countplot(data.sentiment, orient=\"h\", palette='coolwarm', saturation=0.75)\n",
        "  plt.title('Sentiment of ' + str(count) + ' Tweets about ' + topic)"
      ],
      "execution_count": 0,
      "outputs": []
    },
    {
      "metadata": {
        "id": "9_apbkrFsmCT",
        "colab_type": "text"
      },
      "cell_type": "markdown",
      "source": [
        "#### Data Science"
      ]
    },
    {
      "metadata": {
        "id": "_7mSE2SZLz0-",
        "colab_type": "code",
        "outputId": "78fbff64-7582-4366-8fba-1ed84db787b3",
        "colab": {
          "base_uri": "https://localhost:8080/",
          "height": 403
        }
      },
      "cell_type": "code",
      "source": [
        "twitter_sentiment('Data Science',60)"
      ],
      "execution_count": 0,
      "outputs": [
        {
          "output_type": "display_data",
          "data": {
            "image/png": "[encoded data removed]",
            "text/plain": [
              "<Figure size 576x432 with 1 Axes>"
            ]
          },
          "metadata": {
            "tags": []
          }
        }
      ]
    },
    {
      "metadata": {
        "id": "xF2sqrp-sL7A",
        "colab_type": "text"
      },
      "cell_type": "markdown",
      "source": [
        "#### Artificial Intelligence"
      ]
    },
    {
      "metadata": {
        "id": "xQ_Fsa2NMUs8",
        "colab_type": "code",
        "outputId": "b029a28b-ef4c-4933-f5bc-706cf7eccf35",
        "colab": {
          "base_uri": "https://localhost:8080/",
          "height": 403
        }
      },
      "cell_type": "code",
      "source": [
        "twitter_sentiment('Artificial Intelligence')"
      ],
      "execution_count": 0,
      "outputs": [
        {
          "output_type": "display_data",
          "data": {
            "image/png": "[encoded data removed]",
            "text/plain": [
              "<Figure size 576x432 with 1 Axes>"
            ]
          },
          "metadata": {
            "tags": []
          }
        }
      ]
    },
    {
      "metadata": {
        "id": "I4DAiJ1QsIsP",
        "colab_type": "text"
      },
      "cell_type": "markdown",
      "source": [
        "#### LGBT"
      ]
    },
    {
      "metadata": {
        "id": "jHSkMY2NM6NZ",
        "colab_type": "code",
        "outputId": "3f9f2f72-f032-4375-f6d9-b36af41ea2b7",
        "colab": {
          "base_uri": "https://localhost:8080/",
          "height": 621
        }
      },
      "cell_type": "code",
      "source": [
        "twitter_sentiment('LGBT', disp_head=True)"
      ],
      "execution_count": 0,
      "outputs": [
        {
          "output_type": "display_data",
          "data": {
            "text/html": [
              "<div>\n",
              "<style scoped>\n",
              "    .dataframe tbody tr th:only-of-type {\n",
              "        vertical-align: middle;\n",
              "    }\n",
              "\n",
              "    .dataframe tbody tr th {\n",
              "        vertical-align: top;\n",
              "    }\n",
              "\n",
              "    .dataframe thead th {\n",
              "        text-align: right;\n",
              "    }\n",
              "</style>\n",
              "<table border=\"1\" class=\"dataframe\">\n",
              "  <thead>\n",
              "    <tr style=\"text-align: right;\">\n",
              "      <th></th>\n",
              "      <th>Tweets</th>\n",
              "      <th>polarity</th>\n",
              "      <th>negative</th>\n",
              "      <th>neutral</th>\n",
              "      <th>positive</th>\n",
              "      <th>compound</th>\n",
              "      <th>sentiment</th>\n",
              "    </tr>\n",
              "  </thead>\n",
              "  <tbody>\n",
              "    <tr>\n",
              "      <th>0</th>\n",
              "      <td>RT @isabelIefacts: who is the bigger lgbt arti...</td>\n",
              "      <td>{'neg': 0.0, 'neu': 0.857, 'pos': 0.143, 'comp...</td>\n",
              "      <td>0.000</td>\n",
              "      <td>0.857</td>\n",
              "      <td>0.143</td>\n",
              "      <td>0.3612</td>\n",
              "      <td>neutral</td>\n",
              "    </tr>\n",
              "    <tr>\n",
              "      <th>1</th>\n",
              "      <td>RT @isabelIefacts: who is the bigger lgbt arti...</td>\n",
              "      <td>{'neg': 0.0, 'neu': 0.857, 'pos': 0.143, 'comp...</td>\n",
              "      <td>0.000</td>\n",
              "      <td>0.857</td>\n",
              "      <td>0.143</td>\n",
              "      <td>0.3612</td>\n",
              "      <td>neutral</td>\n",
              "    </tr>\n",
              "    <tr>\n",
              "      <th>2</th>\n",
              "      <td>@NOSTALGIAHURTS You say faggot. It’s not your ...</td>\n",
              "      <td>{'neg': 0.173, 'neu': 0.827, 'pos': 0.0, 'comp...</td>\n",
              "      <td>0.173</td>\n",
              "      <td>0.827</td>\n",
              "      <td>0.000</td>\n",
              "      <td>-0.6597</td>\n",
              "      <td>neutral</td>\n",
              "    </tr>\n",
              "    <tr>\n",
              "      <th>3</th>\n",
              "      <td>RT @isabelIefacts: who is the bigger lgbt arti...</td>\n",
              "      <td>{'neg': 0.0, 'neu': 0.857, 'pos': 0.143, 'comp...</td>\n",
              "      <td>0.000</td>\n",
              "      <td>0.857</td>\n",
              "      <td>0.143</td>\n",
              "      <td>0.3612</td>\n",
              "      <td>neutral</td>\n",
              "    </tr>\n",
              "    <tr>\n",
              "      <th>4</th>\n",
              "      <td>RT @BlogBurari: 桜田大臣の「がっかり」発言、昨年の杉田水脈議員の「LGBTは...</td>\n",
              "      <td>{'neg': 0.0, 'neu': 1.0, 'pos': 0.0, 'compound...</td>\n",
              "      <td>0.000</td>\n",
              "      <td>1.000</td>\n",
              "      <td>0.000</td>\n",
              "      <td>0.0000</td>\n",
              "      <td>neutral</td>\n",
              "    </tr>\n",
              "    <tr>\n",
              "      <th>5</th>\n",
              "      <td>Your church is basically a cult, Crispy. And t...</td>\n",
              "      <td>{'neg': 0.252, 'neu': 0.748, 'pos': 0.0, 'comp...</td>\n",
              "      <td>0.252</td>\n",
              "      <td>0.748</td>\n",
              "      <td>0.000</td>\n",
              "      <td>-0.5719</td>\n",
              "      <td>neutral</td>\n",
              "    </tr>\n",
              "  </tbody>\n",
              "</table>\n",
              "</div>"
            ],
            "text/plain": [
              "                                              Tweets  \\\n",
              "0  RT @isabelIefacts: who is the bigger lgbt arti...   \n",
              "1  RT @isabelIefacts: who is the bigger lgbt arti...   \n",
              "2  @NOSTALGIAHURTS You say faggot. It’s not your ...   \n",
              "3  RT @isabelIefacts: who is the bigger lgbt arti...   \n",
              "4  RT @BlogBurari: 桜田大臣の「がっかり」発言、昨年の杉田水脈議員の「LGBTは...   \n",
              "5  Your church is basically a cult, Crispy. And t...   \n",
              "\n",
              "                                            polarity  negative  neutral  \\\n",
              "0  {'neg': 0.0, 'neu': 0.857, 'pos': 0.143, 'comp...     0.000    0.857   \n",
              "1  {'neg': 0.0, 'neu': 0.857, 'pos': 0.143, 'comp...     0.000    0.857   \n",
              "2  {'neg': 0.173, 'neu': 0.827, 'pos': 0.0, 'comp...     0.173    0.827   \n",
              "3  {'neg': 0.0, 'neu': 0.857, 'pos': 0.143, 'comp...     0.000    0.857   \n",
              "4  {'neg': 0.0, 'neu': 1.0, 'pos': 0.0, 'compound...     0.000    1.000   \n",
              "5  {'neg': 0.252, 'neu': 0.748, 'pos': 0.0, 'comp...     0.252    0.748   \n",
              "\n",
              "   positive  compound sentiment  \n",
              "0     0.143    0.3612   neutral  \n",
              "1     0.143    0.3612   neutral  \n",
              "2     0.000   -0.6597   neutral  \n",
              "3     0.143    0.3612   neutral  \n",
              "4     0.000    0.0000   neutral  \n",
              "5     0.000   -0.5719   neutral  "
            ]
          },
          "metadata": {
            "tags": []
          }
        },
        {
          "output_type": "display_data",
          "data": {
            "image/png": "[encoded data removed]",
            "text/plain": [
              "<Figure size 576x432 with 1 Axes>"
            ]
          },
          "metadata": {
            "tags": []
          }
        }
      ]
    },
    {
      "metadata": {
        "id": "vvAVeBMlNHjo",
        "colab_type": "text"
      },
      "cell_type": "markdown",
      "source": [
        "### For large amount of tweets"
      ]
    },
    {
      "metadata": {
        "id": "QQnthLNDN5CC",
        "colab_type": "code",
        "colab": {}
      },
      "cell_type": "code",
      "source": [
        "def mul_tweets(topic, count=100, n=100, disp_head=False):\n",
        "  \n",
        "  tweets = api.search(topic, count=count)\n",
        "\n",
        "  data = pd.DataFrame(data=[tweet.text for tweet in tweets], columns=['Tweets'])\n",
        "\n",
        "  print(time.ctime())\n",
        "\n",
        "  for i in range(n-1):\n",
        "\n",
        "    time.sleep(60)\n",
        "\n",
        "    tweets = api.search('Artificial Intelligence', count=count)\n",
        "\n",
        "    dataf = pd.DataFrame(data=[tweet.text for tweet in tweets], columns=['Tweets'])\n",
        "\n",
        "    data = pd.concat([data, dataf], ignore_index=True)\n",
        "\n",
        "    if i % 10 == 0:\n",
        "      print(round(100*i/n,2),'% finished')\n",
        "  \n",
        "  print(time.ctime())\n",
        "  \n",
        "  sid = SentimentIntensityAnalyzer()\n",
        "\n",
        "  listy = []\n",
        "\n",
        "  for index, row in data.iterrows():\n",
        "      ss = sid.polarity_scores(row[\"Tweets\"])\n",
        "      listy.append(ss)\n",
        "\n",
        "  se = pd.Series(listy)\n",
        "\n",
        "  data['polarity'] = se.values\n",
        "\n",
        "  data['negative'] = pd.Series([x['neg'] for x in data.polarity])\n",
        "  data['neutral'] = pd.Series([x['neu'] for x in data.polarity])\n",
        "  data['positive'] = pd.Series([x['pos'] for x in data.polarity])\n",
        "  data['compound'] = pd.Series([x['compound'] for x in data.polarity])\n",
        "\n",
        "  data_partial = data[['negative','neutral','positive','compound']]\n",
        "  data['sentiment'] = data_partial.idxmax(axis=1)\n",
        "  \n",
        "  if disp_head:\n",
        "    display(data.info())\n",
        "    display(data.head(6))\n",
        "  \n",
        "  plt.figure(figsize=(8,6))\n",
        "  sns.countplot(data.sentiment, orient=\"h\", palette='Set2', saturation=0.75)\n",
        "  plt.title('Sentiment of Tweets about ' + topic)\n",
        "  \n",
        "  return data"
      ],
      "execution_count": 0,
      "outputs": []
    },
    {
      "metadata": {
        "id": "uV8BXylUyKmV",
        "colab_type": "text"
      },
      "cell_type": "markdown",
      "source": [
        "#### Data Science"
      ]
    },
    {
      "metadata": {
        "id": "yJ9NCy-0Hd1z",
        "colab_type": "code",
        "outputId": "47597462-1d67-4c3d-e79e-f3d684ceb03f",
        "colab": {
          "base_uri": "https://localhost:8080/",
          "height": 607
        }
      },
      "cell_type": "code",
      "source": [
        "ds = mul_tweets(topic='Data Science')"
      ],
      "execution_count": 0,
      "outputs": [
        {
          "output_type": "stream",
          "text": [
            "Wed Feb 13 01:08:38 2019\n",
            "0.0 % finished\n",
            "10.0 % finished\n",
            "20.0 % finished\n",
            "30.0 % finished\n",
            "40.0 % finished\n",
            "50.0 % finished\n",
            "60.0 % finished\n",
            "70.0 % finished\n",
            "80.0 % finished\n",
            "90.0 % finished\n",
            "Wed Feb 13 02:48:25 2019\n"
          ],
          "name": "stdout"
        },
        {
          "output_type": "display_data",
          "data": {
            "image/png": "[encoded data removed]",
            "text/plain": [
              "<Figure size 576x432 with 1 Axes>"
            ]
          },
          "metadata": {
            "tags": []
          }
        }
      ]
    },
    {
      "metadata": {
        "id": "lORIUUmIwUvQ",
        "colab_type": "code",
        "outputId": "b5964475-1568-4434-e626-cc122babc59a",
        "colab": {
          "base_uri": "https://localhost:8080/",
          "height": 204
        }
      },
      "cell_type": "code",
      "source": [
        "ds.Tweets.value_counts().head(10)"
      ],
      "execution_count": 0,
      "outputs": [
        {
          "output_type": "execute_result",
          "data": {
            "text/plain": [
              "RT @WhiteHouse: Yesterday, President Trump launched a strategy for American leadership in artificial intelligence. “We will win the race fo…    326\n",
              "RT @NatGeo: AI already pervades our world, but its current capacities are far from what you see in any science fiction movie https://t.co/O…    323\n",
              "RT @sciam: The European Commission has selected six research projects—in areas from health and energy to artificial intelligence and cultur…    147\n",
              "RT @business: The big stock-market winners in China’s technology hub of Shenzhen aren’t artificial intelligence and semiconductor companies…    131\n",
              "RT @WhiteHouse: President @realDonaldTrump is establishing American leadership, promoting innovation, and developing our workforce on the A…    127\n",
              "RT @AnimalsPostt: https://t.co/mBN6YjkP70                                                                                                       108\n",
              "RT @Medium: There's a loophole in the third law of artificial intelligence, George Dyson writes https://t.co/X1KGTY4S7Q                         108\n",
              "RT @AnimalsPostt: https://t.co/gxBpmfNlzS                                                                                                       105\n",
              "RT @WhiteHouse: \"We must ensure that advances in AI remain fueled by American ingenuity, reflect American values, and are applied for the b…     99\n",
              "RT @NaturAmazingg: https://t.co/mHRgo8qWeQ                                                                                                       97\n",
              "Name: Tweets, dtype: int64"
            ]
          },
          "metadata": {
            "tags": []
          },
          "execution_count": 11
        }
      ]
    },
    {
      "metadata": {
        "id": "ebnvVwX2HxPO",
        "colab_type": "code",
        "colab": {}
      },
      "cell_type": "code",
      "source": [
        "unique_data = ds.drop_duplicates('Tweets')"
      ],
      "execution_count": 0,
      "outputs": []
    },
    {
      "metadata": {
        "id": "1VuUgIZiISYU",
        "colab_type": "code",
        "outputId": "78fb7df0-5445-45dd-e4f0-44e4347aa4aa",
        "colab": {
          "base_uri": "https://localhost:8080/",
          "height": 529
        }
      },
      "cell_type": "code",
      "source": [
        "# Unique data - Not much difference\n",
        "topic='Data Science'\n",
        "plt.figure(figsize=(10,8))\n",
        "sns.countplot(unique_data.sentiment, orient=\"h\", palette='Set2', saturation=0.75)\n",
        "plt.title('Sentiment of Tweets about ' + topic)"
      ],
      "execution_count": 0,
      "outputs": [
        {
          "output_type": "execute_result",
          "data": {
            "text/plain": [
              "Text(0.5, 1.0, 'Sentiment of Tweets about Data Science')"
            ]
          },
          "metadata": {
            "tags": []
          },
          "execution_count": 14
        },
        {
          "output_type": "display_data",
          "data": {
            "image/png": "[encoded data removed]",
            "text/plain": [
              "<Figure size 720x576 with 1 Axes>"
            ]
          },
          "metadata": {
            "tags": []
          }
        }
      ]
    },
    {
      "metadata": {
        "id": "m6jv-HNWyOaa",
        "colab_type": "text"
      },
      "cell_type": "markdown",
      "source": [
        "#### Artificial Intelligence"
      ]
    },
    {
      "metadata": {
        "id": "cLsFPuaqyR6j",
        "colab_type": "code",
        "outputId": "cf3bd0d0-d90a-4c27-c63b-399246a70d79",
        "colab": {
          "base_uri": "https://localhost:8080/",
          "height": 607
        }
      },
      "cell_type": "code",
      "source": [
        "ai = mul_tweets(topic='Artificial Intelligence')"
      ],
      "execution_count": 0,
      "outputs": [
        {
          "output_type": "stream",
          "text": [
            "Wed Feb 13 02:57:36 2019\n",
            "0.0 % finished\n",
            "10.0 % finished\n",
            "20.0 % finished\n",
            "30.0 % finished\n",
            "40.0 % finished\n",
            "50.0 % finished\n",
            "60.0 % finished\n",
            "70.0 % finished\n",
            "80.0 % finished\n",
            "90.0 % finished\n",
            "Wed Feb 13 04:37:24 2019\n"
          ],
          "name": "stdout"
        },
        {
          "output_type": "display_data",
          "data": {
            "image/png": "[encoded data removed]",
            "text/plain": [
              "<Figure size 576x432 with 1 Axes>"
            ]
          },
          "metadata": {
            "tags": []
          }
        }
      ]
    },
    {
      "metadata": {
        "id": "mvbemq6AySAG",
        "colab_type": "code",
        "outputId": "e1641584-dd6d-4a4d-a7d7-dc4587bad519",
        "colab": {
          "base_uri": "https://localhost:8080/",
          "height": 204
        }
      },
      "cell_type": "code",
      "source": [
        "ai.Tweets.value_counts().head(10)"
      ],
      "execution_count": 0,
      "outputs": [
        {
          "output_type": "execute_result",
          "data": {
            "text/plain": [
              "RT @WhiteHouse: Yesterday, President Trump launched a strategy for American leadership in artificial intelligence. “We will win the race fo…      412\n",
              "RT @ajplus: Can algorithms built into artificial intelligence reveal racism and sexism?\\n\\nData scientists say yes — and we're to blame. http…    333\n",
              "RT @business: The big stock-market winners in China’s technology hub of Shenzhen aren’t artificial intelligence and semiconductor companies…      310\n",
              "RT @WhiteHouse: President @realDonaldTrump is establishing American leadership, promoting innovation, and developing our workforce on the A…      246\n",
              "RT @WhiteHouse: \"We must ensure that advances in AI remain fueled by American ingenuity, reflect American values, and are applied for the b…      237\n",
              "RT @uchi2chi1: Investing in #AI is crucial to creating the industries of the future! 👏⁦@realDonaldTrump⁩ #MAGA every damn day😁 \\n\\nPresident…     175\n",
              "RT @1st_relationn: https://t.co/YyJdiAlgI5                                                                                                        171\n",
              "RT @1st_relationn: https://t.co/fx8QapKRL5                                                                                                        140\n",
              "RT @MuckRock: #Axon, one of the most prominent suppliers of tech tools to law enforcement, is shifting from selling its signature #Tasers t…      118\n",
              "RT @DailyCaller: Donald Trump Wants To Make Sure The US Workforce Is Ready For AI https://t.co/qUOQ9zr8aq https://t.co/7MYnzH6lNa                 118\n",
              "Name: Tweets, dtype: int64"
            ]
          },
          "metadata": {
            "tags": []
          },
          "execution_count": 16
        }
      ]
    },
    {
      "metadata": {
        "id": "tCV5fXOktB1_",
        "colab_type": "text"
      },
      "cell_type": "markdown",
      "source": [
        "### That's all! Hooray!"
      ]
    }
  ]
}